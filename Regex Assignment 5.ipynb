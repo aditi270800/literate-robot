{
 "cells": [
  {
   "cell_type": "markdown",
   "metadata": {},
   "source": [
    "# Assignment 5"
   ]
  },
  {
   "cell_type": "markdown",
   "metadata": {},
   "source": [
    "Aditi Saxena"
   ]
  },
  {
   "cell_type": "markdown",
   "metadata": {},
   "source": [
    "Q1. Given a list of integers, write a function to return the sum of all prime numbers in that\n",
    "list."
   ]
  },
  {
   "cell_type": "code",
   "execution_count": 34,
   "metadata": {},
   "outputs": [
    {
     "name": "stdout",
     "output_type": "stream",
     "text": [
      "Sum of all prime numbers: 179\n"
     ]
    }
   ],
   "source": [
    "def findPrime(list1):\n",
    "    s = 0\n",
    "    for num in list1:\n",
    "        i = 2\n",
    "        p = 1\n",
    "        while i <= num / 2:\n",
    "            if num % i == 0:\n",
    "                p = 0\n",
    "                break\n",
    "            i = i + 1\n",
    "        if p == 1:\n",
    "            s = s + num\n",
    "    return s\n",
    "\n",
    "\n",
    "list1 = [23,67,44,89]\n",
    "s = findPrime(list1)\n",
    "print(\"Sum of all prime numbers:\", s)"
   ]
  },
  {
   "cell_type": "markdown",
   "metadata": {},
   "source": [
    "Q2. Given a list of integers, write a function to check whether the list is strictly increasing or\n",
    "not."
   ]
  },
  {
   "cell_type": "code",
   "execution_count": 12,
   "metadata": {},
   "outputs": [
    {
     "name": "stdout",
     "output_type": "stream",
     "text": [
      "True\n",
      "True\n",
      "True\n",
      "True\n",
      "True\n"
     ]
    }
   ],
   "source": [
    "def almost_increasing_sequence(sequence):\n",
    "    if len(sequence) < 3:\n",
    "        return True\n",
    "\n",
    "    a, b, *sequence = sequence\n",
    "    skipped = 0\n",
    "    for c in sequence:\n",
    "        if a < b < c:  # XXX\n",
    "            a, b = b, c\n",
    "            continue\n",
    "        elif b < c:    # !XX\n",
    "            a, b = b, c\n",
    "        elif a < c:    # X!X\n",
    "            a, b = a, c\n",
    "        skipped += 1\n",
    "        if skipped == 2:\n",
    "            return False\n",
    "    return a < b\n",
    "print(almost_increasing_sequence([1, 2, 3, 0, 4, 5, 6]))\n",
    "print(almost_increasing_sequence([1, 2, 3, 0]))\n",
    "print(almost_increasing_sequence([1, 2, 0, 3]))\n",
    "print(almost_increasing_sequence([10, 1, 2, 3, 4, 5]))\n",
    "print(almost_increasing_sequence([1, 2, 10, 3, 4]))"
   ]
  },
  {
   "cell_type": "markdown",
   "metadata": {},
   "source": [
    "Q3. Write a function to check whether a given list is expanding or not (the difference\n",
    "between adjacent elements should keep on increasing)."
   ]
  },
  {
   "cell_type": "code",
   "execution_count": 22,
   "metadata": {},
   "outputs": [
    {
     "data": {
      "text/plain": [
       "False"
      ]
     },
     "execution_count": 22,
     "metadata": {},
     "output_type": "execute_result"
    }
   ],
   "source": [
    "def expand(m):\n",
    "    a = abs(m[1] - m[0])\n",
    "    b = abs(m[2] - m[1])\n",
    "    \n",
    "    if a >= b:\n",
    "        return False\n",
    "    \n",
    "    else:\n",
    "        for i in range(3,len(m)):\n",
    "            c = abs(m[i] - m[i-1])\n",
    "            if c <= b:\n",
    "                return False\n",
    "            b = c\n",
    "        else:\n",
    "            return True\n",
    "expand([23,56,11,90,43])"
   ]
  },
  {
   "cell_type": "markdown",
   "metadata": {},
   "source": [
    "Q4. Write a function to calculate all permutations of a given string. (Without using itertools)"
   ]
  },
  {
   "cell_type": "code",
   "execution_count": 29,
   "metadata": {},
   "outputs": [
    {
     "name": "stdout",
     "output_type": "stream",
     "text": [
      "Enter the string : OKAY\n",
      "All possible strings are : \n",
      "OKAY  OKYA  OAKY  OAYK  OYKA  OYAK  KOAY  KOYA  KAOY  KAYO  KYOA  KYAO  AOKY  AOYK  AKOY  AKYO  AYOK  AYKO  YOKA  YOAK  YKOA  YKAO  YAOK  YAKO  "
     ]
    }
   ],
   "source": [
    "def permutation(n, ans):\n",
    "    if (len(n) == 0):\n",
    "        print(ans, end = \"  \")\n",
    "        return\n",
    "     \n",
    "    for i in range(len(n)):\n",
    "        ch = n[i]\n",
    "        left = n[0:i]\n",
    "        right = n[i + 1:]\n",
    "        rest = left + right\n",
    "        permutation(rest, ans + ch)\n",
    "ans = \"\"\n",
    "n = input(\"Enter the string : \")\n",
    "print(\"All possible strings are : \")\n",
    "permutation(n, ans)"
   ]
  }
 ],
 "metadata": {
  "kernelspec": {
   "display_name": "Python 3",
   "language": "python",
   "name": "python3"
  },
  "language_info": {
   "codemirror_mode": {
    "name": "ipython",
    "version": 3
   },
   "file_extension": ".py",
   "mimetype": "text/x-python",
   "name": "python",
   "nbconvert_exporter": "python",
   "pygments_lexer": "ipython3",
   "version": "3.7.6"
  }
 },
 "nbformat": 4,
 "nbformat_minor": 4
}
