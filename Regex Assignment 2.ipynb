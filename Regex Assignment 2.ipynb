{
 "cells": [
  {
   "cell_type": "markdown",
   "metadata": {},
   "source": [
    "Name: Aditi Saxena"
   ]
  },
  {
   "cell_type": "markdown",
   "metadata": {},
   "source": [
    "Q1: Write a lambda expression to extract first word of a string."
   ]
  },
  {
   "cell_type": "code",
   "execution_count": 2,
   "metadata": {},
   "outputs": [
    {
     "name": "stdout",
     "output_type": "stream",
     "text": [
      "Damon\n"
     ]
    }
   ],
   "source": [
    "s = \"Damon Salvatore is a Vampire!!\"\n",
    "word = lambda i: s.split()[i]\n",
    "print(word(0))"
   ]
  },
  {
   "cell_type": "markdown",
   "metadata": {},
   "source": [
    "Q2: Write a function to extract first word of s string(with many word seperated by space)"
   ]
  },
  {
   "cell_type": "code",
   "execution_count": 3,
   "metadata": {},
   "outputs": [
    {
     "data": {
      "text/plain": [
       "'It'"
      ]
     },
     "execution_count": 3,
     "metadata": {},
     "output_type": "execute_result"
    }
   ],
   "source": [
    "s = \" It always seems impossible until it's done.\" \n",
    "def fword(s):\n",
    "    return s.split()[0]\n",
    "\n",
    "fword(s)"
   ]
  },
  {
   "cell_type": "markdown",
   "metadata": {},
   "source": [
    "Q3: Extract the first word from every string from a list of strings by using map function"
   ]
  },
  {
   "cell_type": "code",
   "execution_count": 4,
   "metadata": {},
   "outputs": [
    {
     "name": "stdout",
     "output_type": "stream",
     "text": [
      "['Start', 'Life', 'If', 'Only']\n"
     ]
    }
   ],
   "source": [
    "list1 = [\"Start where you are. Use what you have. Do what you can.\",\n",
    "        \"Life is 10% what happens to you and 90% how you react to it.\",\n",
    "        \"If you can dream it, you can do it.\",\n",
    "        \"Only I can change my life. No one can do it for me.\"]\n",
    "def fword(string):\n",
    "    return string.split()[0]\n",
    "res = list(map(fword,list1))\n",
    "print(res)"
   ]
  },
  {
   "cell_type": "markdown",
   "metadata": {},
   "source": [
    "Q4: Write a function to return a list of prime factors of a given number."
   ]
  },
  {
   "cell_type": "code",
   "execution_count": 11,
   "metadata": {},
   "outputs": [
    {
     "name": "stdout",
     "output_type": "stream",
     "text": [
      "Enter the number: 158\n",
      "[2, 79]\n"
     ]
    }
   ],
   "source": [
    "def prime(x):\n",
    "    fact = []\n",
    "    div = 2\n",
    "    while div <= x:\n",
    "        if x%div == 0:\n",
    "            fact.append(div)\n",
    "            x = x/div\n",
    "        else:\n",
    "            div += 1 \n",
    "    return fact\n",
    "\n",
    "n = input('Enter the number: ')\n",
    "print(prime(int(n)))"
   ]
  },
  {
   "cell_type": "markdown",
   "metadata": {},
   "source": [
    "Q5: Write a function that finds 2nd largest among 4 numbers (Repetitions are allowed, without sorting)."
   ]
  },
  {
   "cell_type": "code",
   "execution_count": 15,
   "metadata": {},
   "outputs": [
    {
     "name": "stdout",
     "output_type": "stream",
     "text": [
      "34 56 78 90\n",
      "78\n"
     ]
    }
   ],
   "source": [
    "n = input()\n",
    "list1 = n.split()\n",
    "list1 = set(list1)\n",
    "def sec_large():\n",
    "    list1.remove(max(list1))\n",
    "    print(max(list1))\n",
    "sec_large()"
   ]
  }
 ],
 "metadata": {
  "kernelspec": {
   "display_name": "Python 3",
   "language": "python",
   "name": "python3"
  },
  "language_info": {
   "codemirror_mode": {
    "name": "ipython",
    "version": 3
   },
   "file_extension": ".py",
   "mimetype": "text/x-python",
   "name": "python",
   "nbconvert_exporter": "python",
   "pygments_lexer": "ipython3",
   "version": "3.7.6"
  }
 },
 "nbformat": 4,
 "nbformat_minor": 4
}
